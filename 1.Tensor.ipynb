{
  "nbformat": 4,
  "nbformat_minor": 0,
  "metadata": {
    "colab": {
      "provenance": [],
      "authorship_tag": "ABX9TyM0PzHbZRfyhSooQZkBcTLV",
      "include_colab_link": true
    },
    "kernelspec": {
      "name": "python3",
      "display_name": "Python 3"
    },
    "language_info": {
      "name": "python"
    }
  },
  "cells": [
    {
      "cell_type": "markdown",
      "metadata": {
        "id": "view-in-github",
        "colab_type": "text"
      },
      "source": [
        "<a href=\"https://colab.research.google.com/github/quastarK/Tensorflow_colab/blob/main/Tensor.ipynb\" target=\"_parent\"><img src=\"https://colab.research.google.com/assets/colab-badge.svg\" alt=\"Open In Colab\"/></a>"
      ]
    },
    {
      "cell_type": "code",
      "execution_count": null,
      "metadata": {
        "id": "Ro7YJt30hwx3"
      },
      "outputs": [],
      "source": [
        "import tensorflow as tf"
      ]
    },
    {
      "cell_type": "markdown",
      "source": [
        "## 랭크 0\n"
      ],
      "metadata": {
        "id": "ecEyRyQlkCBh"
      }
    },
    {
      "cell_type": "code",
      "source": [
        "mammal = tf.Variable(\"코끼리\", tf.string)\n",
        "ignition = tf.Variable(451,tf.int16)\n",
        "floating = tf.Variable(3.141592653,tf.float64)\n",
        "its_complicated = tf.Variable(12.3-4.85j,tf.complex64)"
      ],
      "metadata": {
        "id": "btN7kw9Bhz-8"
      },
      "execution_count": null,
      "outputs": []
    },
    {
      "cell_type": "code",
      "source": [
        "print(mammal)\n",
        "print(ignition)\n",
        "print(floating)\n",
        "print(its_complicated)"
      ],
      "metadata": {
        "colab": {
          "base_uri": "https://localhost:8080/"
        },
        "id": "n4WeOec3iFaP",
        "outputId": "a9107a55-610e-4668-9ea4-df2f784c8480"
      },
      "execution_count": null,
      "outputs": [
        {
          "output_type": "stream",
          "name": "stdout",
          "text": [
            "<tf.Variable 'Variable:0' shape=() dtype=string, numpy=b'\\xec\\xbd\\x94\\xeb\\x81\\xbc\\xeb\\xa6\\xac'>\n",
            "<tf.Variable 'Variable:0' shape=() dtype=int32, numpy=451>\n",
            "<tf.Variable 'Variable:0' shape=() dtype=float32, numpy=3.1415927>\n",
            "<tf.Variable 'Variable:0' shape=() dtype=complex128, numpy=(12.3-4.85j)>\n"
          ]
        }
      ]
    },
    {
      "cell_type": "markdown",
      "source": [
        "## 랭크 1"
      ],
      "metadata": {
        "id": "GEYfGkWKkGUg"
      }
    },
    {
      "cell_type": "code",
      "source": [
        "mystr = tf.Variable([\"안녕하세요\"], tf.string)\n",
        "cool_numbers = tf.Variable([3.14159,2.71828],tf.float32)\n",
        "first_primes = tf.Variable([2,3,5,7,11],tf.int32)\n",
        "its_very_complicated = tf.Variable([12.3-4.85j,7.5-6.23j],tf.complex64)"
      ],
      "metadata": {
        "id": "-MJ7MxPdiIJj"
      },
      "execution_count": 7,
      "outputs": []
    },
    {
      "cell_type": "code",
      "source": [
        "print(mystr)\n",
        "print(cool_numbers)\n",
        "print(first_primes)\n",
        "print(its_very_complicated)"
      ],
      "metadata": {
        "colab": {
          "base_uri": "https://localhost:8080/"
        },
        "id": "kV2jag6LkhG7",
        "outputId": "89c60ce7-bea2-41ee-c60d-8e59c08214c3"
      },
      "execution_count": 8,
      "outputs": [
        {
          "output_type": "stream",
          "name": "stdout",
          "text": [
            "<tf.Variable 'Variable:0' shape=(1,) dtype=string, numpy=\n",
            "array([b'\\xec\\x95\\x88\\xeb\\x85\\x95\\xed\\x95\\x98\\xec\\x84\\xb8\\xec\\x9a\\x94'],\n",
            "      dtype=object)>\n",
            "<tf.Variable 'Variable:0' shape=(2,) dtype=float32, numpy=array([3.14159, 2.71828], dtype=float32)>\n",
            "<tf.Variable 'Variable:0' shape=(5,) dtype=int32, numpy=array([ 2,  3,  5,  7, 11], dtype=int32)>\n",
            "<tf.Variable 'Variable:0' shape=(2,) dtype=complex128, numpy=array([12.3-4.85j,  7.5-6.23j])>\n"
          ]
        }
      ]
    },
    {
      "cell_type": "markdown",
      "source": [
        "## 고차원 랭크"
      ],
      "metadata": {
        "id": "cJWPtzWNklaP"
      }
    },
    {
      "cell_type": "markdown",
      "source": [
        "랭크 2 tf.Tensor 객체는 최소 한 개 이상의 열과 행으로 구성됩니다."
      ],
      "metadata": {
        "id": "TyysEdU1lSHo"
      }
    },
    {
      "cell_type": "code",
      "source": [
        "mymat = tf.Variable([[7],[11]], tf.int16)\n",
        "myxor = tf.Variable([[False,True],[True,False]], tf.bool)\n",
        "linear_squares = tf.Variable([[4],[9],[16],[25]], tf.int32)\n",
        "squarish_squares = tf.Variable([[4,9],[16,25]], tf.int32)\n",
        "rank_of_squares = tf.rank(squarish_squares)\n",
        "mymatC = tf.Variable([[7],[11]],tf.int32)"
      ],
      "metadata": {
        "id": "Ys2UBA7Tkkb2"
      },
      "execution_count": 10,
      "outputs": []
    },
    {
      "cell_type": "code",
      "source": [
        "print(mymat)\n",
        "print(myxor)\n",
        "print(linear_squares)\n",
        "print(squarish_squares)\n",
        "print(rank_of_squares)\n",
        "print(mymatC)"
      ],
      "metadata": {
        "colab": {
          "base_uri": "https://localhost:8080/"
        },
        "id": "c2TFyHRXlxYW",
        "outputId": "b5d7f5aa-501e-494a-e7fc-5b5c74600a4c"
      },
      "execution_count": 13,
      "outputs": [
        {
          "output_type": "stream",
          "name": "stdout",
          "text": [
            "<tf.Variable 'Variable:0' shape=(2, 1) dtype=int32, numpy=\n",
            "array([[ 7],\n",
            "       [11]], dtype=int32)>\n",
            "<tf.Variable 'Variable:0' shape=(2, 2) dtype=bool, numpy=\n",
            "array([[False,  True],\n",
            "       [ True, False]])>\n",
            "<tf.Variable 'Variable:0' shape=(4, 1) dtype=int32, numpy=\n",
            "array([[ 4],\n",
            "       [ 9],\n",
            "       [16],\n",
            "       [25]], dtype=int32)>\n",
            "<tf.Variable 'Variable:0' shape=(2, 2) dtype=int32, numpy=\n",
            "array([[ 4,  9],\n",
            "       [16, 25]], dtype=int32)>\n",
            "tf.Tensor(2, shape=(), dtype=int32)\n",
            "<tf.Variable 'Variable:0' shape=(2, 1) dtype=int32, numpy=\n",
            "array([[ 7],\n",
            "       [11]], dtype=int32)>\n"
          ]
        }
      ]
    },
    {
      "cell_type": "markdown",
      "source": [
        "고차원 랭크 텐서는 n-차원 배열로 구성됩니다.\n"
      ],
      "metadata": {
        "id": "yNY7YD9mmDIe"
      }
    },
    {
      "cell_type": "code",
      "source": [
        "my_image = tf.zeros([10,299,299,3]) # 배치 x 높이 x 너비 x 색상"
      ],
      "metadata": {
        "id": "xEV7v75slzaY"
      },
      "execution_count": 17,
      "outputs": []
    },
    {
      "cell_type": "code",
      "source": [
        "print(my_image.shape)"
      ],
      "metadata": {
        "colab": {
          "base_uri": "https://localhost:8080/"
        },
        "id": "1IYc_6tsmKYB",
        "outputId": "d6e446e5-3392-4709-bf6d-68efe9c025e2"
      },
      "execution_count": 18,
      "outputs": [
        {
          "output_type": "stream",
          "name": "stdout",
          "text": [
            "(10, 299, 299, 3)\n"
          ]
        }
      ]
    },
    {
      "cell_type": "markdown",
      "source": [
        "##Tf.Tensor 원소 참조하기\n",
        "\n",
        "tf.Tensor는 n-차원 배열로 구성되어 있기 떄문에, tf.Tensor 원소 하나에 접근하기 위해서는 n개의 인덱스가 필요합니다\n",
        "\n",
        "랭크 0 텐서 (스칼라)인 경우 이미 하나의 숫자이기 때문에 인덱스가 필요없습니다.\n",
        "\n",
        "랭크 1 텐서 (벡터)인 경우 숫자 하나에 접근하기 위해서는 인덱스 하나를 전달해야 합니다."
      ],
      "metadata": {
        "id": "0M91KUY4ma5j"
      }
    },
    {
      "cell_type": "code",
      "source": [
        "my_matrix = tf.Variable([ [1,2,3,4],\n",
        "                          [2,3,4,5],\n",
        "                          [3,4,5,6],\n",
        "                          [4,5,6,7]],tf.int16)\n",
        "my_scalar = my_matrix[2]\n",
        "print(my_scalar)"
      ],
      "metadata": {
        "colab": {
          "base_uri": "https://localhost:8080/"
        },
        "id": "I6Vs-sBamdO9",
        "outputId": "97a827c3-554d-44c4-bb3e-fc0b9b75bd10"
      },
      "execution_count": 24,
      "outputs": [
        {
          "output_type": "stream",
          "name": "stdout",
          "text": [
            "tf.Tensor([3 4 5 6], shape=(4,), dtype=int32)\n"
          ]
        }
      ]
    },
    {
      "cell_type": "code",
      "source": [
        "my_scalar = my_matrix[1,2]\n",
        "print(my_scalar)"
      ],
      "metadata": {
        "colab": {
          "base_uri": "https://localhost:8080/"
        },
        "id": "7GUpmO6nnH_O",
        "outputId": "758f1349-fa51-4c53-ef17-30c48388e5a3"
      },
      "execution_count": 25,
      "outputs": [
        {
          "output_type": "stream",
          "name": "stdout",
          "text": [
            "tf.Tensor(4, shape=(), dtype=int32)\n"
          ]
        }
      ]
    },
    {
      "cell_type": "markdown",
      "source": [
        "그러나, 인덱스를 한 개만 전달한다면 다음과 같이 행렬의 부분 벡터를 반환합니다\n",
        "\n",
        ": 표기는 \"해당 차원을 남겨라\"라는 파이썬 슬라이싱 문법입니다. 이러한 표기법은 고차원 텐서에서 부분 벡터와 부분 행렬, 다른 부분 텐서들까지도 접근할 수 있도록 만들어 주기 때문에 유용합니다."
      ],
      "metadata": {
        "id": "WO96vtInnaNf"
      }
    },
    {
      "cell_type": "code",
      "source": [
        "my_row_vector = my_matrix[2]\n",
        "my_column_vector = my_matrix[:,3]"
      ],
      "metadata": {
        "id": "ZlD84ucanpZo"
      },
      "execution_count": 26,
      "outputs": []
    },
    {
      "cell_type": "code",
      "source": [
        "print(my_matrix)"
      ],
      "metadata": {
        "colab": {
          "base_uri": "https://localhost:8080/"
        },
        "id": "v8geQlpbnzTt",
        "outputId": "3ba5737c-e39a-4032-f06e-f353a935407b"
      },
      "execution_count": 29,
      "outputs": [
        {
          "output_type": "stream",
          "name": "stdout",
          "text": [
            "<tf.Variable 'Variable:0' shape=(4, 4) dtype=int32, numpy=\n",
            "array([[1, 2, 3, 4],\n",
            "       [2, 3, 4, 5],\n",
            "       [3, 4, 5, 6],\n",
            "       [4, 5, 6, 7]], dtype=int32)>\n"
          ]
        }
      ]
    },
    {
      "cell_type": "code",
      "source": [
        "print(my_row_vector)"
      ],
      "metadata": {
        "colab": {
          "base_uri": "https://localhost:8080/"
        },
        "id": "T_1FESISnvbk",
        "outputId": "5ac97ef6-ace1-422f-e616-fbe750d21b06"
      },
      "execution_count": 27,
      "outputs": [
        {
          "output_type": "stream",
          "name": "stdout",
          "text": [
            "tf.Tensor([3 4 5 6], shape=(4,), dtype=int32)\n"
          ]
        }
      ]
    },
    {
      "cell_type": "code",
      "source": [
        "print(my_column_vector)"
      ],
      "metadata": {
        "colab": {
          "base_uri": "https://localhost:8080/"
        },
        "id": "nPjsCnlenwvB",
        "outputId": "b152f91c-c1ae-4006-da40-ca4b9006a2bf"
      },
      "execution_count": 28,
      "outputs": [
        {
          "output_type": "stream",
          "name": "stdout",
          "text": [
            "tf.Tensor([4 5 6 7], shape=(4,), dtype=int32)\n"
          ]
        }
      ]
    },
    {
      "cell_type": "code",
      "source": [
        "print(my_matrix[1:3])"
      ],
      "metadata": {
        "colab": {
          "base_uri": "https://localhost:8080/"
        },
        "id": "e29R7QPAnyBE",
        "outputId": "6cf58e82-f9a7-4c74-c150-483d96798031"
      },
      "execution_count": 35,
      "outputs": [
        {
          "output_type": "stream",
          "name": "stdout",
          "text": [
            "tf.Tensor(\n",
            "[[2 3 4 5]\n",
            " [3 4 5 6]], shape=(2, 4), dtype=int32)\n"
          ]
        }
      ]
    },
    {
      "cell_type": "code",
      "source": [
        "print(my_matrix[:,1:3])"
      ],
      "metadata": {
        "colab": {
          "base_uri": "https://localhost:8080/"
        },
        "id": "cQUmizrun8UC",
        "outputId": "b79c7698-3f70-473c-c3af-4cacaae0a666"
      },
      "execution_count": 39,
      "outputs": [
        {
          "output_type": "stream",
          "name": "stdout",
          "text": [
            "tf.Tensor(\n",
            "[[2 3]\n",
            " [3 4]\n",
            " [4 5]\n",
            " [5 6]], shape=(4, 2), dtype=int32)\n"
          ]
        }
      ]
    },
    {
      "cell_type": "code",
      "source": [],
      "metadata": {
        "id": "MPzV3Yh1oJhE"
      },
      "execution_count": null,
      "outputs": []
    },
    {
      "cell_type": "markdown",
      "source": [
        "## 형태 (shape)\n",
        "\n",
        "텐서의 형태는 각 차원에 있는 원소 개수로 표현됩니다.\n",
        "텐서플로는 그래프 계산 과정에서 자동으로 텐서 형태를 추론합니다.\n",
        "이렇게 추론된 형태는 랭크를 알고 있는 경우도 있고, 그렇지 않은 경우도 있습니다.\n",
        "\n",
        "만약에 랭크를 알고 있는 경우라도 각 차원의 원소 개수를 알고 있는 경우도 잇고 그렇지 않는 경우도 있습니다.\n",
        "\n",
        "텐서플로 문서에서 텐서 차원을 표현하기 위해서 3가지 용어를 사용합니다. :: 랭크, 형태, 차원"
      ],
      "metadata": {
        "id": "h7Q1yViEoUsU"
      }
    },
    {
      "cell_type": "code",
      "source": [
        "my_matrix = tf.zeros([3,2])\n",
        "zeros = tf.zeros(my_matrix.shape[1])\n",
        "print(my_matrix.shape)\n",
        "print(zeros.shape)"
      ],
      "metadata": {
        "colab": {
          "base_uri": "https://localhost:8080/"
        },
        "id": "qCvFFk-uoqkZ",
        "outputId": "d71d5fa1-102b-42aa-f72c-d1dea4c53219"
      },
      "execution_count": 42,
      "outputs": [
        {
          "output_type": "stream",
          "name": "stdout",
          "text": [
            "(3, 2)\n",
            "(2,)\n"
          ]
        }
      ]
    },
    {
      "cell_type": "markdown",
      "source": [
        "### tf.Tensor 형태 변경\n",
        "원소 개수를 유지하면서 tf.Tensor 형태를 변경할 수 있다 : tf.reshape"
      ],
      "metadata": {
        "id": "P1yFioCmpHCk"
      }
    },
    {
      "cell_type": "code",
      "source": [
        "rank_three_tensor = tf.ones([3,4,5])            # 3x4x5 = 60\n",
        "matrix = tf.reshape(rank_three_tensor,[6,10])   # 6x10 = 60\n",
        "matrixB = tf.reshape(matrix,[3,-1])             # -1 차원 크기를 계산하여 자동으로 계산하라는 의미 -> [3,20] 으로 바뀜\n",
        "matrixA = tf.reshape(matrixB,[4,3,-1])          # 4x3x5 으로 바꾸라는 말"
      ],
      "metadata": {
        "id": "o1pjXip1o3vF"
      },
      "execution_count": 48,
      "outputs": []
    },
    {
      "cell_type": "code",
      "source": [
        "print(rank_three_tensor.shape)\n",
        "print(matrix.shape)\n",
        "print(matrixB.shape)\n",
        "print(matrixA.shape)"
      ],
      "metadata": {
        "colab": {
          "base_uri": "https://localhost:8080/"
        },
        "id": "b42Xe0B2pFL-",
        "outputId": "848c422d-cf9f-4d42-faaa-8702a19b1637"
      },
      "execution_count": 49,
      "outputs": [
        {
          "output_type": "stream",
          "name": "stdout",
          "text": [
            "(3, 4, 5)\n",
            "(6, 10)\n",
            "(3, 20)\n",
            "(4, 3, 5)\n"
          ]
        }
      ]
    },
    {
      "cell_type": "code",
      "source": [
        "matrix_error = tf.reshape(matrixB,[12,3,-1])  # 원소의 갯수가 동일하게 유지되지 않으므로 에러가 발생"
      ],
      "metadata": {
        "colab": {
          "base_uri": "https://localhost:8080/",
          "height": 334
        },
        "id": "lmpPgk0tpm7K",
        "outputId": "70cb8ed2-57ef-436a-acc6-0fab273ebd3b"
      },
      "execution_count": 50,
      "outputs": [
        {
          "output_type": "error",
          "ename": "InvalidArgumentError",
          "evalue": "{{function_node __wrapped__Reshape_device_/job:localhost/replica:0/task:0/device:CPU:0}} Input to reshape is a tensor with 60 values, but the requested shape requires a multiple of 36 [Op:Reshape]",
          "traceback": [
            "\u001b[0;31m---------------------------------------------------------------------------\u001b[0m",
            "\u001b[0;31mInvalidArgumentError\u001b[0m                      Traceback (most recent call last)",
            "\u001b[0;32m<ipython-input-50-6511d44ad7ab>\u001b[0m in \u001b[0;36m<cell line: 1>\u001b[0;34m()\u001b[0m\n\u001b[0;32m----> 1\u001b[0;31m \u001b[0mmatrix_error\u001b[0m \u001b[0;34m=\u001b[0m \u001b[0mtf\u001b[0m\u001b[0;34m.\u001b[0m\u001b[0mreshape\u001b[0m\u001b[0;34m(\u001b[0m\u001b[0mmatrixB\u001b[0m\u001b[0;34m,\u001b[0m\u001b[0;34m[\u001b[0m\u001b[0;36m12\u001b[0m\u001b[0;34m,\u001b[0m\u001b[0;36m3\u001b[0m\u001b[0;34m,\u001b[0m\u001b[0;34m-\u001b[0m\u001b[0;36m1\u001b[0m\u001b[0;34m]\u001b[0m\u001b[0;34m)\u001b[0m  \u001b[0;31m# 원소의 갯수가 동일하게 유지되지 않으므로 에러가 발생\u001b[0m\u001b[0;34m\u001b[0m\u001b[0;34m\u001b[0m\u001b[0m\n\u001b[0m",
            "\u001b[0;32m/usr/local/lib/python3.10/dist-packages/tensorflow/python/ops/weak_tensor_ops.py\u001b[0m in \u001b[0;36mwrapper\u001b[0;34m(*args, **kwargs)\u001b[0m\n\u001b[1;32m     86\u001b[0m   \u001b[0;32mdef\u001b[0m \u001b[0mwrapper\u001b[0m\u001b[0;34m(\u001b[0m\u001b[0;34m*\u001b[0m\u001b[0margs\u001b[0m\u001b[0;34m,\u001b[0m \u001b[0;34m**\u001b[0m\u001b[0mkwargs\u001b[0m\u001b[0;34m)\u001b[0m\u001b[0;34m:\u001b[0m\u001b[0;34m\u001b[0m\u001b[0;34m\u001b[0m\u001b[0m\n\u001b[1;32m     87\u001b[0m     \u001b[0;32mif\u001b[0m \u001b[0;32mnot\u001b[0m \u001b[0mops\u001b[0m\u001b[0;34m.\u001b[0m\u001b[0mis_auto_dtype_conversion_enabled\u001b[0m\u001b[0;34m(\u001b[0m\u001b[0;34m)\u001b[0m\u001b[0;34m:\u001b[0m\u001b[0;34m\u001b[0m\u001b[0;34m\u001b[0m\u001b[0m\n\u001b[0;32m---> 88\u001b[0;31m       \u001b[0;32mreturn\u001b[0m \u001b[0mop\u001b[0m\u001b[0;34m(\u001b[0m\u001b[0;34m*\u001b[0m\u001b[0margs\u001b[0m\u001b[0;34m,\u001b[0m \u001b[0;34m**\u001b[0m\u001b[0mkwargs\u001b[0m\u001b[0;34m)\u001b[0m\u001b[0;34m\u001b[0m\u001b[0;34m\u001b[0m\u001b[0m\n\u001b[0m\u001b[1;32m     89\u001b[0m     \u001b[0mbound_arguments\u001b[0m \u001b[0;34m=\u001b[0m \u001b[0msignature\u001b[0m\u001b[0;34m.\u001b[0m\u001b[0mbind\u001b[0m\u001b[0;34m(\u001b[0m\u001b[0;34m*\u001b[0m\u001b[0margs\u001b[0m\u001b[0;34m,\u001b[0m \u001b[0;34m**\u001b[0m\u001b[0mkwargs\u001b[0m\u001b[0;34m)\u001b[0m\u001b[0;34m\u001b[0m\u001b[0;34m\u001b[0m\u001b[0m\n\u001b[1;32m     90\u001b[0m     \u001b[0mbound_arguments\u001b[0m\u001b[0;34m.\u001b[0m\u001b[0mapply_defaults\u001b[0m\u001b[0;34m(\u001b[0m\u001b[0;34m)\u001b[0m\u001b[0;34m\u001b[0m\u001b[0;34m\u001b[0m\u001b[0m\n",
            "\u001b[0;32m/usr/local/lib/python3.10/dist-packages/tensorflow/python/util/traceback_utils.py\u001b[0m in \u001b[0;36merror_handler\u001b[0;34m(*args, **kwargs)\u001b[0m\n\u001b[1;32m    151\u001b[0m     \u001b[0;32mexcept\u001b[0m \u001b[0mException\u001b[0m \u001b[0;32mas\u001b[0m \u001b[0me\u001b[0m\u001b[0;34m:\u001b[0m\u001b[0;34m\u001b[0m\u001b[0;34m\u001b[0m\u001b[0m\n\u001b[1;32m    152\u001b[0m       \u001b[0mfiltered_tb\u001b[0m \u001b[0;34m=\u001b[0m \u001b[0m_process_traceback_frames\u001b[0m\u001b[0;34m(\u001b[0m\u001b[0me\u001b[0m\u001b[0;34m.\u001b[0m\u001b[0m__traceback__\u001b[0m\u001b[0;34m)\u001b[0m\u001b[0;34m\u001b[0m\u001b[0;34m\u001b[0m\u001b[0m\n\u001b[0;32m--> 153\u001b[0;31m       \u001b[0;32mraise\u001b[0m \u001b[0me\u001b[0m\u001b[0;34m.\u001b[0m\u001b[0mwith_traceback\u001b[0m\u001b[0;34m(\u001b[0m\u001b[0mfiltered_tb\u001b[0m\u001b[0;34m)\u001b[0m \u001b[0;32mfrom\u001b[0m \u001b[0;32mNone\u001b[0m\u001b[0;34m\u001b[0m\u001b[0;34m\u001b[0m\u001b[0m\n\u001b[0m\u001b[1;32m    154\u001b[0m     \u001b[0;32mfinally\u001b[0m\u001b[0;34m:\u001b[0m\u001b[0;34m\u001b[0m\u001b[0;34m\u001b[0m\u001b[0m\n\u001b[1;32m    155\u001b[0m       \u001b[0;32mdel\u001b[0m \u001b[0mfiltered_tb\u001b[0m\u001b[0;34m\u001b[0m\u001b[0;34m\u001b[0m\u001b[0m\n",
            "\u001b[0;32m/usr/local/lib/python3.10/dist-packages/tensorflow/python/eager/execute.py\u001b[0m in \u001b[0;36mquick_execute\u001b[0;34m(op_name, num_outputs, inputs, attrs, ctx, name)\u001b[0m\n\u001b[1;32m     51\u001b[0m   \u001b[0;32mtry\u001b[0m\u001b[0;34m:\u001b[0m\u001b[0;34m\u001b[0m\u001b[0;34m\u001b[0m\u001b[0m\n\u001b[1;32m     52\u001b[0m     \u001b[0mctx\u001b[0m\u001b[0;34m.\u001b[0m\u001b[0mensure_initialized\u001b[0m\u001b[0;34m(\u001b[0m\u001b[0;34m)\u001b[0m\u001b[0;34m\u001b[0m\u001b[0;34m\u001b[0m\u001b[0m\n\u001b[0;32m---> 53\u001b[0;31m     tensors = pywrap_tfe.TFE_Py_Execute(ctx._handle, device_name, op_name,\n\u001b[0m\u001b[1;32m     54\u001b[0m                                         inputs, attrs, num_outputs)\n\u001b[1;32m     55\u001b[0m   \u001b[0;32mexcept\u001b[0m \u001b[0mcore\u001b[0m\u001b[0;34m.\u001b[0m\u001b[0m_NotOkStatusException\u001b[0m \u001b[0;32mas\u001b[0m \u001b[0me\u001b[0m\u001b[0;34m:\u001b[0m\u001b[0;34m\u001b[0m\u001b[0;34m\u001b[0m\u001b[0m\n",
            "\u001b[0;31mInvalidArgumentError\u001b[0m: {{function_node __wrapped__Reshape_device_/job:localhost/replica:0/task:0/device:CPU:0}} Input to reshape is a tensor with 60 values, but the requested shape requires a multiple of 36 [Op:Reshape]"
          ]
        }
      ]
    },
    {
      "cell_type": "markdown",
      "source": [
        "### 자료형 (data type)\n",
        "\n",
        "tf.DType 으로 전체 자료형 확인 가능\n",
        "\n",
        "tf.Tensor가 한 개이상의 자료형을 가지는 것은 불가능 합니다.\n",
        "임의의 데이터 구조를 직렬화한 string를 저장한 tf.Tensor는 예와\n",
        "\n",
        "tf.cast를 이용해서 tf.Tensor의 자료형을 다른 것으로 변경하는 것이 가능"
      ],
      "metadata": {
        "id": "UsbGezGrru18"
      }
    },
    {
      "cell_type": "code",
      "source": [
        "constant_tensor = tf.constant([1,2,3])\n",
        "float_tensor = tf.cast(constant_tensor, dtype=tf.float32)"
      ],
      "metadata": {
        "id": "T8EIYA8ZsL_1"
      },
      "execution_count": 54,
      "outputs": []
    },
    {
      "cell_type": "code",
      "source": [
        "print(constant_tensor.dtype)\n",
        "print(float_tensor.dtype)"
      ],
      "metadata": {
        "colab": {
          "base_uri": "https://localhost:8080/"
        },
        "id": "iX4AG4rtsHti",
        "outputId": "2ebf11d2-6619-4a50-828c-4027bdf1c1e5"
      },
      "execution_count": 55,
      "outputs": [
        {
          "output_type": "stream",
          "name": "stdout",
          "text": [
            "<dtype: 'int32'>\n",
            "<dtype: 'float32'>\n"
          ]
        }
      ]
    },
    {
      "cell_type": "markdown",
      "source": [
        "## 텐서 계산하기 (evaluate)"
      ],
      "metadata": {
        "id": "81J3x7ASsjQ6"
      }
    },
    {
      "cell_type": "code",
      "source": [
        "constant = tf.constant([1,2,3])\n",
        "tensor = constant*constant\n",
        "print(tensor)     #tensor.eval() <- tensorflow 1.0"
      ],
      "metadata": {
        "colab": {
          "base_uri": "https://localhost:8080/"
        },
        "id": "sjXJB6yGsnko",
        "outputId": "f38fb4ad-d68f-4f1b-f59f-21e48a35c0ba"
      },
      "execution_count": 58,
      "outputs": [
        {
          "output_type": "stream",
          "name": "stdout",
          "text": [
            "tf.Tensor([1 4 9], shape=(3,), dtype=int32)\n"
          ]
        }
      ]
    }
  ]
}
