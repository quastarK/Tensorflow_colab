{
  "nbformat": 4,
  "nbformat_minor": 0,
  "metadata": {
    "colab": {
      "provenance": [],
      "gpuType": "T4",
      "authorship_tag": "ABX9TyOb2dsYNocMTjMFtc6Cdofc",
      "include_colab_link": true
    },
    "kernelspec": {
      "name": "python3",
      "display_name": "Python 3"
    },
    "language_info": {
      "name": "python"
    },
    "accelerator": "GPU"
  },
  "cells": [
    {
      "cell_type": "markdown",
      "metadata": {
        "id": "view-in-github",
        "colab_type": "text"
      },
      "source": [
        "<a href=\"https://colab.research.google.com/github/quastarK/Tensorflow_colab/blob/main/Variable.ipynb\" target=\"_parent\"><img src=\"https://colab.research.google.com/assets/colab-badge.svg\" alt=\"Open In Colab\"/></a>"
      ]
    },
    {
      "cell_type": "markdown",
      "source": [
        "# 변수 (Variable)\n"
      ],
      "metadata": {
        "id": "vbMzTeKOs-3i"
      }
    },
    {
      "cell_type": "markdown",
      "source": [
        "텐서플로 옵티마이저는 경사 하강법과 같은 알고리즘에 따라 변수값을 효율적으로 업데이트하는 전문적인 연산이 있습니다.\n",
        "\n",
        "tf.keras.optimizers.Optimizer을 보면 옵티마이저 사용방법이 설명되어 있습니다.\n",
        "\n",
        "또한, read_value를 사용하여 현재 변수값을 명시적으로 읽어올 수 있습니다."
      ],
      "metadata": {
        "id": "03h-_4iQtDT5"
      }
    },
    {
      "cell_type": "code",
      "source": [
        "import tensorflow as tf"
      ],
      "metadata": {
        "id": "kC4IYmQhtjW5"
      },
      "execution_count": 1,
      "outputs": []
    },
    {
      "cell_type": "markdown",
      "source": [
        "## 변수 생성\n",
        "\n",
        "변수를 생성하려면 단순하게 초기값을 설정하면 됩니다."
      ],
      "metadata": {
        "id": "tbjsv2R-tWHk"
      }
    },
    {
      "cell_type": "code",
      "source": [
        "my_variable = tf.Variable(tf.ones([1, 2, 3]))"
      ],
      "metadata": {
        "id": "3_z-ujdfs_2G"
      },
      "execution_count": 2,
      "outputs": []
    },
    {
      "cell_type": "code",
      "source": [
        "print(my_variable)"
      ],
      "metadata": {
        "colab": {
          "base_uri": "https://localhost:8080/"
        },
        "id": "CoYMa0Zctei6",
        "outputId": "fd3285c2-269b-49fd-f677-69a265029596"
      },
      "execution_count": 3,
      "outputs": [
        {
          "output_type": "stream",
          "name": "stdout",
          "text": [
            "<tf.Variable 'Variable:0' shape=(1, 2, 3) dtype=float32, numpy=\n",
            "array([[[1., 1., 1.],\n",
            "        [1., 1., 1.]]], dtype=float32)>\n"
          ]
        }
      ]
    },
    {
      "cell_type": "markdown",
      "source": [
        "tf.device 범위 (scope)가 유효하다면, 변수는 해당 장치에 위치합니다.\n",
        "\n",
        "그렇지 않다면, 변수는 dtype에 호환되는 \"가장 빠른\" 장치에 위치합니다.\n",
        "(GPU가 가용하다면 대부분의 변수들이 자동적으로 GPU에 위치한다는 의미 입니다.)\n",
        "\n",
        "\n",
        "다음의 코드는 v라는 변수를 만들고 두 번째 GPU에 위치시킵니다."
      ],
      "metadata": {
        "id": "VxsYTx_TtwFA"
      }
    },
    {
      "cell_type": "code",
      "source": [
        "with tf.device(\"/device:GPU:1\"):      # colab의 경우 GPU가 하나라 1 지정해도 0에 지정됨\n",
        "  v = tf.Variable(tf.zeros([10,10]))\n"
      ],
      "metadata": {
        "id": "n4C0TVxrtftF"
      },
      "execution_count": 14,
      "outputs": []
    },
    {
      "cell_type": "code",
      "source": [
        "print(v.device)\n",
        "print(v)"
      ],
      "metadata": {
        "colab": {
          "base_uri": "https://localhost:8080/"
        },
        "id": "2XutckYJuHwV",
        "outputId": "bef549c0-a7f7-4d6a-ae29-a4baf65bda5f"
      },
      "execution_count": 16,
      "outputs": [
        {
          "output_type": "stream",
          "name": "stdout",
          "text": [
            "/job:localhost/replica:0/task:0/device:GPU:0\n",
            "<tf.Variable 'Variable:0' shape=(10, 10) dtype=float32, numpy=\n",
            "array([[0., 0., 0., 0., 0., 0., 0., 0., 0., 0.],\n",
            "       [0., 0., 0., 0., 0., 0., 0., 0., 0., 0.],\n",
            "       [0., 0., 0., 0., 0., 0., 0., 0., 0., 0.],\n",
            "       [0., 0., 0., 0., 0., 0., 0., 0., 0., 0.],\n",
            "       [0., 0., 0., 0., 0., 0., 0., 0., 0., 0.],\n",
            "       [0., 0., 0., 0., 0., 0., 0., 0., 0., 0.],\n",
            "       [0., 0., 0., 0., 0., 0., 0., 0., 0., 0.],\n",
            "       [0., 0., 0., 0., 0., 0., 0., 0., 0., 0.],\n",
            "       [0., 0., 0., 0., 0., 0., 0., 0., 0., 0.],\n",
            "       [0., 0., 0., 0., 0., 0., 0., 0., 0., 0.]], dtype=float32)>\n"
          ]
        }
      ]
    },
    {
      "cell_type": "markdown",
      "source": [
        "### 변수의 사용\n",
        "\n",
        "tf.Variable의 값을 사용하려면 단순히 tf.Tensor로 취급하면 된다.\n",
        "\n",
        "같은 변수에 할당하려면 assign, assign_add 메소드와 tf.Variable 클래스에 있는 friends를 사용해야한다."
      ],
      "metadata": {
        "id": "ytO_quxHvCWi"
      }
    },
    {
      "cell_type": "code",
      "source": [
        "v = tf.Variable(0.0)\n",
        "w = v+1"
      ],
      "metadata": {
        "id": "MLY9I7tguew1"
      },
      "execution_count": 20,
      "outputs": []
    },
    {
      "cell_type": "code",
      "source": [
        "print(w)\n",
        "print(v)"
      ],
      "metadata": {
        "colab": {
          "base_uri": "https://localhost:8080/"
        },
        "id": "U5d0YmGsu4-W",
        "outputId": "a5fd7a29-6a5a-4d2d-896d-ece43d6d5675"
      },
      "execution_count": 21,
      "outputs": [
        {
          "output_type": "stream",
          "name": "stdout",
          "text": [
            "tf.Tensor(1.0, shape=(), dtype=float32)\n",
            "<tf.Variable 'Variable:0' shape=() dtype=float32, numpy=0.0>\n"
          ]
        }
      ]
    },
    {
      "cell_type": "code",
      "source": [
        "v = tf.Variable(0.0)\n",
        "v.assign_add(1)\n",
        "v.read_value() # 1.0"
      ],
      "metadata": {
        "colab": {
          "base_uri": "https://localhost:8080/"
        },
        "id": "z5UqBYhPu5FV",
        "outputId": "f1df2e2c-8611-4a6d-ce47-a5772455b7e8"
      },
      "execution_count": 30,
      "outputs": [
        {
          "output_type": "execute_result",
          "data": {
            "text/plain": [
              "<tf.Tensor: shape=(), dtype=float32, numpy=1.0>"
            ]
          },
          "metadata": {},
          "execution_count": 30
        }
      ]
    },
    {
      "cell_type": "markdown",
      "source": [
        "## 변수 추적\n",
        "\n",
        "텐서플로에서 하나의 변수는 하나의 파이썬 객체입니다.\n",
        "층, 모델, 옵티마이저, 그리고 다른 관련된 도구들을 작성할때 모델안에 있는 모든 변수의 리스트가 필요할 수 있습니다.\n",
        "\n",
        "자신의 파이썬 코드에서 필요에 따라 변수들을 추적하는 동안 변수를 소유하는 자신의 클래스에 기본 클래스로 tf.Module 사용을 권장합니다.\n",
        "\n",
        "tf.Module의 인스턴스는 variable와 다른 모듈들을 탐색할 수 있는 모델에서 접근할 수 있는 모든 (훈련가능한) 변수를 리턴하는 trainable_variables 메서드가 포함되어 있습니다.\n",
        "\n",
        "층을 구현하고 있다면 tf.keras.Layer가 기본 클래스로 더 좋을 수 있습니다.\n",
        "인터페이스를 구현하는 것은 층이 케라스에 완전하게 통합되기 때문에 model.fit과 잘 통합된 다른 API들을 사용할 수 있게 됩니다.\n",
        "tf.keras.Layer의 변수 추적은 tf.Module의 변수 추적과 동일합니다.\n",
        "\n",
        "\n"
      ],
      "metadata": {
        "id": "pIXDBvNyvqDr"
      }
    },
    {
      "cell_type": "code",
      "source": [
        "class MyModuleOne(tf.Module):\n",
        "  def __init__(self):\n",
        "    self.v0 = tf.Variable(1.0)\n",
        "    self.vs = [tf.Variable(x) for x in range(10)]\n",
        "\n",
        "\n",
        "class MyOtherModule(tf.Module):\n",
        "  def __init__(self):\n",
        "    self.m = MyModuleOne()\n",
        "    self.v = tf.Variable(10.0)\n",
        "\n",
        "\n",
        "m = MyOtherModule()\n",
        "print(len(m.variables))    # 12; 11은 m (self.v0 : 1, self.vs :10), m에서 다른것은 v에서 (self.v)\n",
        "print(m.variables)\n",
        "len(m.trainable_variables)"
      ],
      "metadata": {
        "colab": {
          "base_uri": "https://localhost:8080/"
        },
        "id": "GgyINs-Mv1e8",
        "outputId": "2a7ae003-9687-4c17-a8bc-064e7774ba97"
      },
      "execution_count": 40,
      "outputs": [
        {
          "output_type": "stream",
          "name": "stdout",
          "text": [
            "12\n",
            "(<tf.Variable 'Variable:0' shape=() dtype=float32, numpy=10.0>, <tf.Variable 'Variable:0' shape=() dtype=float32, numpy=1.0>, <tf.Variable 'Variable:0' shape=() dtype=int32, numpy=0>, <tf.Variable 'Variable:0' shape=() dtype=int32, numpy=1>, <tf.Variable 'Variable:0' shape=() dtype=int32, numpy=2>, <tf.Variable 'Variable:0' shape=() dtype=int32, numpy=3>, <tf.Variable 'Variable:0' shape=() dtype=int32, numpy=4>, <tf.Variable 'Variable:0' shape=() dtype=int32, numpy=5>, <tf.Variable 'Variable:0' shape=() dtype=int32, numpy=6>, <tf.Variable 'Variable:0' shape=() dtype=int32, numpy=7>, <tf.Variable 'Variable:0' shape=() dtype=int32, numpy=8>, <tf.Variable 'Variable:0' shape=() dtype=int32, numpy=9>)\n"
          ]
        },
        {
          "output_type": "execute_result",
          "data": {
            "text/plain": [
              "12"
            ]
          },
          "metadata": {},
          "execution_count": 40
        }
      ]
    },
    {
      "cell_type": "code",
      "source": [],
      "metadata": {
        "id": "5q3eeAlDxbCo"
      },
      "execution_count": null,
      "outputs": []
    }
  ]
}
