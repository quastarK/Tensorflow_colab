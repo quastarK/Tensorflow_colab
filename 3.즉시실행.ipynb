{
  "nbformat": 4,
  "nbformat_minor": 0,
  "metadata": {
    "colab": {
      "provenance": [],
      "authorship_tag": "ABX9TyNL0br5l2My7yWaMrFpOp+e",
      "include_colab_link": true
    },
    "kernelspec": {
      "name": "python3",
      "display_name": "Python 3"
    },
    "language_info": {
      "name": "python"
    }
  },
  "cells": [
    {
      "cell_type": "markdown",
      "metadata": {
        "id": "view-in-github",
        "colab_type": "text"
      },
      "source": [
        "<a href=\"https://colab.research.google.com/github/quastarK/Tensorflow_colab/blob/Tensorflow-2.0-%EB%94%A5%EB%9F%AC%EB%8B%9D%EA%B8%B0%EC%B4%88/3.%EC%A6%89%EC%8B%9C%EC%8B%A4%ED%96%89.ipynb\" target=\"_parent\"><img src=\"https://colab.research.google.com/assets/colab-badge.svg\" alt=\"Open In Colab\"/></a>"
      ]
    },
    {
      "cell_type": "markdown",
      "source": [
        "# 즉시 실행\n",
        "\n",
        "텐서플로의 즉시 실행은 그래프를 생성하지 않고 함수를 바로 실행하는 명령형 프로그래밍 환경 나중에 실행하기 위해 계산가능한 그래프를 생성하는 대신에 계산값을 즉시 알려주는 연산\n",
        "\n",
        "이러한 기능은 텐서플로를 시작하고 모델을 디버깅하는 것을 더욱 쉽게 만들고 불필요한 상용구 코드 작성을 줄여 줍니다.\n"
      ],
      "metadata": {
        "id": "DK10VxgMxUgF"
      }
    },
    {
      "cell_type": "code",
      "source": [
        "import tensorflow as tf"
      ],
      "metadata": {
        "id": "B_58-tYExPm4"
      },
      "execution_count": 1,
      "outputs": []
    },
    {
      "cell_type": "code",
      "source": [
        "x = [[2.]]"
      ],
      "metadata": {
        "id": "Vp6l8yVwxRKP"
      },
      "execution_count": 2,
      "outputs": []
    },
    {
      "cell_type": "code",
      "source": [
        "m = tf.matmul(x, x)"
      ],
      "metadata": {
        "id": "oouf2g8DxTrw"
      },
      "execution_count": 3,
      "outputs": []
    },
    {
      "cell_type": "code",
      "source": [
        "m"
      ],
      "metadata": {
        "colab": {
          "base_uri": "https://localhost:8080/"
        },
        "id": "hvHaRIVExWAm",
        "outputId": "39f1def1-5057-423f-82a3-a1d0b4beda22"
      },
      "execution_count": 4,
      "outputs": [
        {
          "output_type": "execute_result",
          "data": {
            "text/plain": [
              "<tf.Tensor: shape=(1, 1), dtype=float32, numpy=array([[4.]], dtype=float32)>"
            ]
          },
          "metadata": {},
          "execution_count": 4
        }
      ]
    },
    {
      "cell_type": "code",
      "source": [
        "print(\"x, {}\".format(x))"
      ],
      "metadata": {
        "colab": {
          "base_uri": "https://localhost:8080/"
        },
        "id": "8W9n2CETyRgt",
        "outputId": "92f7e953-034d-4579-f5fd-976c7f8a5ad9"
      },
      "execution_count": 5,
      "outputs": [
        {
          "output_type": "stream",
          "name": "stdout",
          "text": [
            "x, [[2.0]]\n"
          ]
        }
      ]
    },
    {
      "cell_type": "code",
      "source": [
        "print(\"hello, {}\".format(m))"
      ],
      "metadata": {
        "colab": {
          "base_uri": "https://localhost:8080/"
        },
        "id": "iIg5FGjixXVD",
        "outputId": "af38c176-93ce-4fff-c552-da1533ed4d45"
      },
      "execution_count": 6,
      "outputs": [
        {
          "output_type": "stream",
          "name": "stdout",
          "text": [
            "hello, [[4.]]\n"
          ]
        }
      ]
    },
    {
      "cell_type": "markdown",
      "source": [
        "## 기본 사용법\n",
        "\n",
        "즉시 실행 활성화는 텐서플로 연산을 바로 평가하고 그 결과를 파이썬에게 알려주는 방식으로 동작을 변경합니다.\n",
        "\n",
        "tf.Tensor 객체는 계산 그래프에 있는 노드를 가르키는 간접 핸들 대신에 구체적인 값을 참조합니다.\n",
        "나중에 실행하기 위해 생성된 계산 그래프가 없기 때문에 print()나 디버깅 툴을 통해서 결과를 검토하기 쉽다.\n",
        "\n",
        "즉시 실행은 Numpy와 같이 작동합니다"
      ],
      "metadata": {
        "id": "LL44wojfyWPQ"
      }
    },
    {
      "cell_type": "code",
      "source": [
        "a = tf.constant([[1,2], [3,4]])"
      ],
      "metadata": {
        "id": "oQ6FtaQxxZIL"
      },
      "execution_count": 7,
      "outputs": []
    },
    {
      "cell_type": "code",
      "source": [
        "print(a)"
      ],
      "metadata": {
        "colab": {
          "base_uri": "https://localhost:8080/"
        },
        "id": "dyE9wmyBxaqn",
        "outputId": "5b6d5d01-7080-43c8-b1c8-2f2996e347e2"
      },
      "execution_count": 8,
      "outputs": [
        {
          "output_type": "stream",
          "name": "stdout",
          "text": [
            "tf.Tensor(\n",
            "[[1 2]\n",
            " [3 4]], shape=(2, 2), dtype=int32)\n"
          ]
        }
      ]
    },
    {
      "cell_type": "code",
      "source": [
        "# broadcasting 지원 ~ 한쪽의 형태로 맞춰줌\n",
        "b = tf.add(a, 1)"
      ],
      "metadata": {
        "id": "dnJjpYjmyzR8"
      },
      "execution_count": 9,
      "outputs": []
    },
    {
      "cell_type": "code",
      "source": [
        "print(b)"
      ],
      "metadata": {
        "colab": {
          "base_uri": "https://localhost:8080/"
        },
        "id": "BBm1-GGcy05O",
        "outputId": "97e3e408-4619-4c37-8b57-d54f0eece731"
      },
      "execution_count": 10,
      "outputs": [
        {
          "output_type": "stream",
          "name": "stdout",
          "text": [
            "tf.Tensor(\n",
            "[[2 3]\n",
            " [4 5]], shape=(2, 2), dtype=int32)\n"
          ]
        }
      ]
    },
    {
      "cell_type": "code",
      "source": [
        "# element-wise multiplication\n",
        "print(a * b)"
      ],
      "metadata": {
        "colab": {
          "base_uri": "https://localhost:8080/"
        },
        "id": "UyJp_dU1y8LS",
        "outputId": "5bfa841b-976b-4a2c-b10c-5829f3f53aa7"
      },
      "execution_count": 11,
      "outputs": [
        {
          "output_type": "stream",
          "name": "stdout",
          "text": [
            "tf.Tensor(\n",
            "[[ 2  6]\n",
            " [12 20]], shape=(2, 2), dtype=int32)\n"
          ]
        }
      ]
    },
    {
      "cell_type": "code",
      "source": [
        "# matrix multiplication\n",
        "print(a @ b)"
      ],
      "metadata": {
        "colab": {
          "base_uri": "https://localhost:8080/"
        },
        "id": "-V2QuFDCzDrC",
        "outputId": "f363a302-a3bc-4577-e859-c424d7c27d56"
      },
      "execution_count": 12,
      "outputs": [
        {
          "output_type": "stream",
          "name": "stdout",
          "text": [
            "tf.Tensor(\n",
            "[[10 13]\n",
            " [22 29]], shape=(2, 2), dtype=int32)\n"
          ]
        }
      ]
    },
    {
      "cell_type": "code",
      "source": [
        "tf.multiply(a, b)"
      ],
      "metadata": {
        "colab": {
          "base_uri": "https://localhost:8080/"
        },
        "id": "d94joqkGzSa7",
        "outputId": "fd891d2b-1c14-41e2-c09a-b0940bcdd4dd"
      },
      "execution_count": 13,
      "outputs": [
        {
          "output_type": "execute_result",
          "data": {
            "text/plain": [
              "<tf.Tensor: shape=(2, 2), dtype=int32, numpy=\n",
              "array([[ 2,  6],\n",
              "       [12, 20]], dtype=int32)>"
            ]
          },
          "metadata": {},
          "execution_count": 13
        }
      ]
    },
    {
      "cell_type": "code",
      "source": [
        "tf.matmul(a, b)"
      ],
      "metadata": {
        "colab": {
          "base_uri": "https://localhost:8080/"
        },
        "id": "GtXH8YH5zmPE",
        "outputId": "63699149-aded-4103-858d-94575e5ed31a"
      },
      "execution_count": 14,
      "outputs": [
        {
          "output_type": "execute_result",
          "data": {
            "text/plain": [
              "<tf.Tensor: shape=(2, 2), dtype=int32, numpy=\n",
              "array([[10, 13],\n",
              "       [22, 29]], dtype=int32)>"
            ]
          },
          "metadata": {},
          "execution_count": 14
        }
      ]
    },
    {
      "cell_type": "code",
      "source": [
        "print(a)"
      ],
      "metadata": {
        "colab": {
          "base_uri": "https://localhost:8080/"
        },
        "id": "qin2o79hzugp",
        "outputId": "2d8e688f-b1b8-4bf2-f3ff-35eb1cd6e603"
      },
      "execution_count": 15,
      "outputs": [
        {
          "output_type": "stream",
          "name": "stdout",
          "text": [
            "tf.Tensor(\n",
            "[[1 2]\n",
            " [3 4]], shape=(2, 2), dtype=int32)\n"
          ]
        }
      ]
    },
    {
      "cell_type": "code",
      "source": [
        "# numpy가 필요할 경우 사용\n",
        "print(a.numpy())"
      ],
      "metadata": {
        "colab": {
          "base_uri": "https://localhost:8080/"
        },
        "id": "91lxWoJ2zoIx",
        "outputId": "dc0e6435-5287-4b9a-cbc6-cd4a794b328d"
      },
      "execution_count": 16,
      "outputs": [
        {
          "output_type": "stream",
          "name": "stdout",
          "text": [
            "[[1 2]\n",
            " [3 4]]\n"
          ]
        }
      ]
    },
    {
      "cell_type": "markdown",
      "source": [
        "## 동적 제어 흐름\n",
        "\n",
        "즉시 실행의 가장 큰 이점은 모델을 실행하는 동안에도. 호스트 언어의 모든 기능을 활용할 수 있다는 것임"
      ],
      "metadata": {
        "id": "9HpEzRRYz1-V"
      }
    },
    {
      "cell_type": "code",
      "source": [
        "# tensorflow 1.0 에서는 안됬으나 2.0 부터 가능\n",
        "def fizzbuzz(max_num):\n",
        "  counter = tf.constant(0)\n",
        "  max_num = tf.convert_to_tensor(max_num)\n",
        "  for num in range(1, max_num.numpy()+1):\n",
        "    num = tf.constant(num)\n",
        "    if int(num % 3) == 0 and int(num % 5) == 0:\n",
        "      print('FizzBuzz')\n",
        "    elif int(num % 3) == 0:\n",
        "      print('Fizz')\n",
        "    elif int(num % 5) == 0:\n",
        "      print('Buzz')\n",
        "    else:\n",
        "      print(num.numpy())\n",
        "    counter += 1\n",
        "  print(counter)"
      ],
      "metadata": {
        "id": "5PuvHxTnz-TD"
      },
      "execution_count": 21,
      "outputs": []
    },
    {
      "cell_type": "code",
      "source": [
        "fizzbuzz(20)"
      ],
      "metadata": {
        "colab": {
          "base_uri": "https://localhost:8080/"
        },
        "id": "pEmFc4960Dou",
        "outputId": "83fe3fff-48df-4cb9-eafb-ebcf6a13819b"
      },
      "execution_count": 22,
      "outputs": [
        {
          "output_type": "stream",
          "name": "stdout",
          "text": [
            "1\n",
            "2\n",
            "Fizz\n",
            "4\n",
            "Buzz\n",
            "Fizz\n",
            "7\n",
            "8\n",
            "Fizz\n",
            "Buzz\n",
            "11\n",
            "Fizz\n",
            "13\n",
            "14\n",
            "FizzBuzz\n",
            "16\n",
            "17\n",
            "Fizz\n",
            "19\n",
            "Buzz\n",
            "tf.Tensor(20, shape=(), dtype=int32)\n"
          ]
        }
      ]
    },
    {
      "cell_type": "markdown",
      "source": [
        "## 그래디언트 계산하기\n",
        "\n",
        "자동 미분은 인공 신경망 훈련을 위한 역전파와 같은 기계학습 알고리즘을 구현하는데 유용함\n",
        "\n",
        "즉시 실행을 사용하는 동안에는, 나중에 그래디언트를 계산하는 연산을 추적하기 위해 tf.GradientTape을 사용\n",
        "\n",
        "즉시 실행중에 그래디언트를 계산하고 모델 훈련에 이용하기 위해서 사용가능\n",
        "\n",
        "매번 실행될때 서로 다른 연산이 수행될 수 있기 때문에 모든 forward-pass 연산은 tape에 기록되고, 그다음 tape을 거꾸로 돌려 그래디언트를 계산한 후 tape를 폐기하는 것임"
      ],
      "metadata": {
        "id": "kY5X3RK90Z_N"
      }
    },
    {
      "cell_type": "code",
      "source": [
        "w = tf.Variable([[1.0]])\n",
        "with tf.GradientTape() as tape:\n",
        "  loss = w * w # w ** 2 미분하면 2w\n",
        "grad = tape.gradient(loss, w)\n",
        "print(grad) # 2."
      ],
      "metadata": {
        "colab": {
          "base_uri": "https://localhost:8080/"
        },
        "id": "7ZnAaW8401kl",
        "outputId": "4dcf929c-c789-4060-f236-910b168c13f7"
      },
      "execution_count": 19,
      "outputs": [
        {
          "output_type": "stream",
          "name": "stdout",
          "text": [
            "tf.Tensor([[2.]], shape=(1, 1), dtype=float32)\n"
          ]
        }
      ]
    },
    {
      "cell_type": "markdown",
      "source": [
        "## 모델 훈련"
      ],
      "metadata": {
        "id": "iC-8st-e1cea"
      }
    },
    {
      "cell_type": "markdown",
      "source": [],
      "metadata": {
        "id": "maW7kJmy3y23"
      }
    },
    {
      "cell_type": "code",
      "source": [
        "import tensorflow as tf\n",
        "mnist = tf.keras.datasets.mnist\n",
        "\n",
        "(x_train, y_train), (x_test, y_test) = mnist.load_data()\n",
        "x_train, x_test = x_train / 255.0, x_test / 255.0   #  사진의 픽셀의 최대값이 255값이여서, 0 ~ 1 사이의 값으로 조정함 (Min Max Scaler)\n",
        "\n",
        "model = tf.keras.models.Sequential([\n",
        "  tf.keras.layers.Flatten(input_shape=(28, 28)),\n",
        "  tf.keras.layers.Dense(128, activation='relu'),\n",
        "  tf.keras.layers.Dropout(0.2),\n",
        "  tf.keras.layers.Dense(10, activation='softmax')\n",
        "])\n"
      ],
      "metadata": {
        "colab": {
          "base_uri": "https://localhost:8080/"
        },
        "id": "UiU5loOv0_mG",
        "outputId": "31e7adca-a380-4870-eb74-6d7efdfff81a"
      },
      "execution_count": 23,
      "outputs": [
        {
          "output_type": "stream",
          "name": "stdout",
          "text": [
            "Downloading data from https://storage.googleapis.com/tensorflow/tf-keras-datasets/mnist.npz\n",
            "11490434/11490434 [==============================] - 0s 0us/step\n",
            "<keras.src.engine.sequential.Sequential object at 0x7d1dbca72470>\n"
          ]
        }
      ]
    },
    {
      "cell_type": "code",
      "source": [
        "model.layers"
      ],
      "metadata": {
        "colab": {
          "base_uri": "https://localhost:8080/"
        },
        "id": "fmDjtWcxvjDq",
        "outputId": "8a81ae93-c4c6-47a8-b46c-edfb5ca336aa"
      },
      "execution_count": 34,
      "outputs": [
        {
          "output_type": "execute_result",
          "data": {
            "text/plain": [
              "[<keras.src.layers.reshaping.flatten.Flatten at 0x7d1e45c17c10>,\n",
              " <keras.src.layers.core.dense.Dense at 0x7d1dbca71d20>,\n",
              " <keras.src.layers.regularization.dropout.Dropout at 0x7d1dbca71e70>,\n",
              " <keras.src.layers.core.dense.Dense at 0x7d1dbca72320>]"
            ]
          },
          "metadata": {},
          "execution_count": 34
        }
      ]
    },
    {
      "cell_type": "code",
      "source": [
        "model.compile(optimizer='adam',\n",
        "              loss='sparse_categorical_crossentropy',\n",
        "              metrics=['accuracy'])\n",
        "model.fit(x_train, y_train, epochs=5)\n",
        "\n",
        "model.evaluate(x_test,  y_test, verbose=2)"
      ],
      "metadata": {
        "colab": {
          "base_uri": "https://localhost:8080/"
        },
        "id": "dRmC02ZnvhkY",
        "outputId": "bd84b3ee-d7b4-4453-81fd-6663908565d4"
      },
      "execution_count": 37,
      "outputs": [
        {
          "output_type": "stream",
          "name": "stdout",
          "text": [
            "Epoch 1/5\n",
            "1875/1875 [==============================] - 8s 4ms/step - loss: 0.2895 - accuracy: 0.9162\n",
            "Epoch 2/5\n",
            "1875/1875 [==============================] - 6s 3ms/step - loss: 0.1396 - accuracy: 0.9589\n",
            "Epoch 3/5\n",
            "1875/1875 [==============================] - 5s 3ms/step - loss: 0.1028 - accuracy: 0.9691\n",
            "Epoch 4/5\n",
            "1875/1875 [==============================] - 8s 4ms/step - loss: 0.0853 - accuracy: 0.9738\n",
            "Epoch 5/5\n",
            "1875/1875 [==============================] - 8s 4ms/step - loss: 0.0734 - accuracy: 0.9769\n",
            "313/313 - 1s - loss: 0.0742 - accuracy: 0.9782 - 567ms/epoch - 2ms/step\n"
          ]
        },
        {
          "output_type": "execute_result",
          "data": {
            "text/plain": [
              "[0.07417312264442444, 0.9782000184059143]"
            ]
          },
          "metadata": {},
          "execution_count": 37
        }
      ]
    },
    {
      "cell_type": "code",
      "source": [
        "# mnist 데이터 가져오기 및 포맷 맞추기\n",
        "(mnist_images, mnist_labels), _ = tf.keras.datasets.mnist.load_data()\n",
        "\n",
        "# dataset 구성\n",
        "# batch = 32\n",
        "#\n",
        "dataset = tf.data.Dataset.from_tensor_slices(\n",
        "  (tf.cast(mnist_images[...,tf.newaxis]/255, tf.float32),\n",
        "   tf.cast(mnist_labels,tf.int64)))\n",
        "dataset = dataset.shuffle(1000).batch(32)"
      ],
      "metadata": {
        "id": "MCaVJ3DD1e6u"
      },
      "execution_count": 38,
      "outputs": []
    },
    {
      "cell_type": "code",
      "source": [
        "mnist_images.shape"
      ],
      "metadata": {
        "id": "n3zUkfVOE76_",
        "outputId": "f8e91bce-608e-4d61-da0b-17a4a1e60a6e",
        "colab": {
          "base_uri": "https://localhost:8080/"
        }
      },
      "execution_count": 96,
      "outputs": [
        {
          "output_type": "execute_result",
          "data": {
            "text/plain": [
              "(60000, 28, 28)"
            ]
          },
          "metadata": {},
          "execution_count": 96
        }
      ]
    },
    {
      "cell_type": "code",
      "source": [
        "mnist_labels.shape"
      ],
      "metadata": {
        "id": "GpcrFFzJE4b1",
        "outputId": "caf2735a-4535-4a96-9d62-733d60305705",
        "colab": {
          "base_uri": "https://localhost:8080/"
        }
      },
      "execution_count": 95,
      "outputs": [
        {
          "output_type": "execute_result",
          "data": {
            "text/plain": [
              "(60000,)"
            ]
          },
          "metadata": {},
          "execution_count": 95
        }
      ]
    },
    {
      "cell_type": "code",
      "source": [
        "dataset._batch_size"
      ],
      "metadata": {
        "id": "GwSG3UYVE9wa",
        "outputId": "eaf54700-9293-4344-b50f-5a0b30e0fe18",
        "colab": {
          "base_uri": "https://localhost:8080/"
        }
      },
      "execution_count": 106,
      "outputs": [
        {
          "output_type": "execute_result",
          "data": {
            "text/plain": [
              "<tf.Tensor: shape=(), dtype=int64, numpy=32>"
            ]
          },
          "metadata": {},
          "execution_count": 106
        }
      ]
    },
    {
      "cell_type": "code",
      "source": [
        "a = tf.cast(mnist_images[...,tf.newaxis]/255, tf.float32)"
      ],
      "metadata": {
        "id": "kYBmx8PB2hIJ"
      },
      "execution_count": 41,
      "outputs": []
    },
    {
      "cell_type": "code",
      "source": [
        "a.shape"
      ],
      "metadata": {
        "colab": {
          "base_uri": "https://localhost:8080/"
        },
        "id": "y43QmHM32kIi",
        "outputId": "630c9a28-0178-4c3c-b4de-222878498fc8"
      },
      "execution_count": 42,
      "outputs": [
        {
          "output_type": "execute_result",
          "data": {
            "text/plain": [
              "TensorShape([60000, 28, 28, 1])"
            ]
          },
          "metadata": {},
          "execution_count": 42
        }
      ]
    },
    {
      "cell_type": "code",
      "source": [
        "# 모델 생성\n",
        "mnist_model = tf.keras.Sequential([\n",
        "  tf.keras.layers.Conv2D(16,[3,3], activation='relu',\n",
        "                         input_shape=(None, None, 1)),  # None 이라면 데이터 들어오는 형식에 맞추는다는 말임\n",
        "  tf.keras.layers.Conv2D(16,[3,3], activation='relu'),\n",
        "  tf.keras.layers.GlobalAveragePooling2D(),\n",
        "  tf.keras.layers.Dense(10)\n",
        "])\n",
        "\n",
        "for images,labels in dataset.take(1):\n",
        "  print(\"로짓: \", mnist_model(images[0:1]).numpy())"
      ],
      "metadata": {
        "colab": {
          "base_uri": "https://localhost:8080/"
        },
        "id": "u78egJY-22qG",
        "outputId": "a913fbe0-885d-48be-a6f5-9f036305efa9"
      },
      "execution_count": 54,
      "outputs": [
        {
          "output_type": "stream",
          "name": "stdout",
          "text": [
            "로짓:  [[ 0.02106779  0.03674055  0.00520151 -0.00064564  0.01321559  0.01965232\n",
            "   0.02850676  0.00130215 -0.01060621  0.04306363]]\n"
          ]
        }
      ]
    },
    {
      "cell_type": "code",
      "source": [
        "mnist_model.layers"
      ],
      "metadata": {
        "colab": {
          "base_uri": "https://localhost:8080/"
        },
        "id": "e4CVQinc7r0m",
        "outputId": "6d471090-79d1-4939-d6d6-c9380a7b60da"
      },
      "execution_count": 55,
      "outputs": [
        {
          "output_type": "execute_result",
          "data": {
            "text/plain": [
              "[<keras.src.layers.convolutional.conv2d.Conv2D at 0x7d1d8e36b130>,\n",
              " <keras.src.layers.convolutional.conv2d.Conv2D at 0x7d1d8e36bfa0>,\n",
              " <keras.src.layers.pooling.global_average_pooling2d.GlobalAveragePooling2D at 0x7d1d8e36b910>,\n",
              " <keras.src.layers.core.dense.Dense at 0x7d1d8e398b80>]"
            ]
          },
          "metadata": {},
          "execution_count": 55
        }
      ]
    },
    {
      "cell_type": "code",
      "source": [
        "optimizer = tf.keras.optimizers.Adam()\n",
        "loss_object = tf.keras.losses.SparseCategoricalCrossentropy(from_logits=True)\n",
        "\n",
        "loss_history = []"
      ],
      "metadata": {
        "id": "w-SKBR4h28hW"
      },
      "execution_count": 58,
      "outputs": []
    },
    {
      "cell_type": "code",
      "source": [
        "def train_step(images, labels):\n",
        "  with tf.GradientTape() as tape:\n",
        "    logits = mnist_model(images, training=True)\n",
        "\n",
        "    # 결과의 형태를 확인하기 위해서 단언문 추가\n",
        "    tf.debugging.assert_equal(logits.shape, (32, 10))\n",
        "\n",
        "    loss_value = loss_object(labels, logits)\n",
        "\n",
        "  loss_history.append(loss_value.numpy().mean())\n",
        "  grads = tape.gradient(loss_value, mnist_model.trainable_variables)\n",
        "  # Gradient descent :  W = W - alpha(learning rate) * gradients\n",
        "  # -> grads 경우, model parameter를 어떤 방향으로 업데이트 하면 더 좋을까 보기 위해 기록\n",
        "  # dL/dW: gradients\n",
        "\n",
        "  optimizer.apply_gradients(zip(grads, mnist_model.trainable_variables))\n",
        "  # -> 각각의 파라미터에 grads 업데이트 적용"
      ],
      "metadata": {
        "id": "VK7IIOqF2-4S"
      },
      "execution_count": 59,
      "outputs": []
    },
    {
      "cell_type": "code",
      "source": [
        "# zip 함수 설명\n",
        "for x in zip([1,2,3], [4,5,6]):\n",
        "  print(x)"
      ],
      "metadata": {
        "colab": {
          "base_uri": "https://localhost:8080/"
        },
        "id": "kolJyCEd31x3",
        "outputId": "4a235e9c-6b77-40d2-d27c-dd9f9b6260c5"
      },
      "execution_count": 60,
      "outputs": [
        {
          "output_type": "stream",
          "name": "stdout",
          "text": [
            "(1, 4)\n",
            "(2, 5)\n",
            "(3, 6)\n"
          ]
        }
      ]
    },
    {
      "cell_type": "code",
      "source": [
        "def train():\n",
        "  for epoch in range(3):\n",
        "    for (batch, (images, labels)) in enumerate(dataset):\n",
        "      train_step(images, labels)\n",
        "    print ('에포크 {} 종료'.format(epoch))"
      ],
      "metadata": {
        "id": "ZhgiR5-q3DhH"
      },
      "execution_count": 61,
      "outputs": []
    },
    {
      "cell_type": "code",
      "source": [
        "train()"
      ],
      "metadata": {
        "colab": {
          "base_uri": "https://localhost:8080/"
        },
        "id": "Voj-wEey3FhV",
        "outputId": "b9b46d24-a8f0-4a70-c956-f61cb2ec02ed"
      },
      "execution_count": 62,
      "outputs": [
        {
          "output_type": "stream",
          "name": "stdout",
          "text": [
            "에포크 0 종료\n",
            "에포크 1 종료\n",
            "에포크 2 종료\n"
          ]
        }
      ]
    },
    {
      "cell_type": "code",
      "source": [
        "dataset.take(1)[0:1]"
      ],
      "metadata": {
        "id": "9dE3u3zMC3lL"
      },
      "execution_count": null,
      "outputs": []
    },
    {
      "cell_type": "markdown",
      "source": [
        "## 변수와 옵티마이저\n",
        "\n",
        "tf.Variable 객체는 자동 미분을 쉽게하기 위해서 학습동안 변경된 tf.Tensor 값을 저장.\n",
        "모델 파라미터는 클래스 인스턴스 변수로 캡슐화될 수 있음"
      ],
      "metadata": {
        "id": "q6w7m1ss4y_M"
      }
    },
    {
      "cell_type": "code",
      "source": [
        "class Model(tf.keras.Model):    # model : y = W*x+B\n",
        "  def __init__(self):\n",
        "    super(Model, self).__init__()\n",
        "    self.W = tf.Variable(5., name='weight')\n",
        "    self.B = tf.Variable(10., name='bias')\n",
        "  def call(self, inputs):\n",
        "    return inputs * self.W + self.B"
      ],
      "metadata": {
        "id": "MAJZ6nKf4KRt"
      },
      "execution_count": 63,
      "outputs": []
    },
    {
      "cell_type": "code",
      "source": [
        "# 약 3 * x + 2개의 점으로 구성된 실험 데이터\n",
        "NUM_EXAMPLES = 2000\n",
        "training_inputs = tf.random.normal([NUM_EXAMPLES])\n",
        "noise = tf.random.normal([NUM_EXAMPLES])\n",
        "training_outputs = training_inputs * 3 + 2 + noise"
      ],
      "metadata": {
        "id": "bv13iZFq4LgY"
      },
      "execution_count": 64,
      "outputs": []
    },
    {
      "cell_type": "code",
      "source": [
        "import matplotlib.pyplot as plt\n",
        "plt.plot(training_inputs, training_outputs,'k-' )"
      ],
      "metadata": {
        "colab": {
          "base_uri": "https://localhost:8080/",
          "height": 447
        },
        "id": "wNkjIA665YF6",
        "outputId": "8a1c4bc3-328c-4264-c112-598ea3795757"
      },
      "execution_count": 65,
      "outputs": [
        {
          "output_type": "execute_result",
          "data": {
            "text/plain": [
              "[<matplotlib.lines.Line2D at 0x7d1d8e263d30>]"
            ]
          },
          "metadata": {},
          "execution_count": 65
        },
        {
          "output_type": "display_data",
          "data": {
            "text/plain": [
              "<Figure size 640x480 with 1 Axes>"
            ],
            "image/png": "[encoded data removed]"
          },
          "metadata": {}
        }
      ]
    },
    {
      "cell_type": "code",
      "source": [
        "# 최적화할 손실함수\n",
        "def loss(model, inputs, targets):\n",
        "  error = model(inputs) - targets\n",
        "  return tf.reduce_mean(tf.square(error)) # MSE, mean squared error\n",
        "  # tf.reduce_mean : ()안의 모든 값에 대한 평균을 내줌\n",
        "\n",
        "def grad(model, inputs, targets):\n",
        "  with tf.GradientTape() as tape:\n",
        "    loss_value = loss(model, inputs, targets)\n",
        "  return tape.gradient(loss_value, [model.W, model.B])\n",
        "  # grads : W에 대한 미분값(dL/dW), B에 대한 미분값(dL/dB)"
      ],
      "metadata": {
        "id": "fuaRvAJt4MoD"
      },
      "execution_count": 66,
      "outputs": []
    },
    {
      "cell_type": "code",
      "source": [
        "tf.reduce_mean([2,5,11])"
      ],
      "metadata": {
        "colab": {
          "base_uri": "https://localhost:8080/"
        },
        "id": "6RpJHn1355s7",
        "outputId": "2747baf9-d9e1-4a9a-d07d-8c3bd285c960"
      },
      "execution_count": 89,
      "outputs": [
        {
          "output_type": "execute_result",
          "data": {
            "text/plain": [
              "<tf.Tensor: shape=(), dtype=int32, numpy=6>"
            ]
          },
          "metadata": {},
          "execution_count": 89
        }
      ]
    },
    {
      "cell_type": "code",
      "source": [
        "# 정의:\n",
        "# 1. 모델\n",
        "# 2. 모델 파라미터에 대한 손실 함수의 미분\n",
        "# 3. 미분에 기초한 변수 업데이트 전략\n",
        "model = Model()\n",
        "optimizer = tf.keras.optimizers.SGD(learning_rate=0.01)\n",
        "\n",
        "print(\"초기 손실: {:.3f}\".format(loss(model, training_inputs, training_outputs)))"
      ],
      "metadata": {
        "colab": {
          "base_uri": "https://localhost:8080/"
        },
        "id": "2T0YqxF64NnV",
        "outputId": "a6440ac0-e7c1-4d06-e1a2-dd77f9ffa414"
      },
      "execution_count": 92,
      "outputs": [
        {
          "output_type": "stream",
          "name": "stdout",
          "text": [
            "초기 손실: 69.639\n"
          ]
        }
      ]
    },
    {
      "cell_type": "code",
      "source": [
        "# 반복 훈련\n",
        "for i in range(500):\n",
        "  grads = grad(model, training_inputs, training_outputs)\n",
        "  optimizer.apply_gradients(zip(grads, [model.W, model.B]))\n",
        "  if i % 50 == 0:\n",
        "    print(\"스텝 {:03d}에서 손실: {:.3f}\".format(i, loss(model, training_inputs, training_outputs)))\n",
        "    # print(grads[0].numpy(), grads[1].numpy(), model.W.numpy(), model.B.numpy())\n",
        "\n",
        "print(\"최종 손실: {:.3f}\".format(loss(model, training_inputs, training_outputs)))\n",
        "print(\"W = {}, B = {}\".format(model.W.numpy(), model.B.numpy()))"
      ],
      "metadata": {
        "colab": {
          "base_uri": "https://localhost:8080/"
        },
        "id": "k1Qz22hF4QYi",
        "outputId": "b54e1c48-b537-417d-d896-63520dfa64ef"
      },
      "execution_count": 93,
      "outputs": [
        {
          "output_type": "stream",
          "name": "stdout",
          "text": [
            "스텝 000에서 손실: 66.909\n",
            "스텝 050에서 손실: 9.664\n",
            "스텝 100에서 손실: 2.140\n",
            "스텝 150에서 손실: 1.152\n",
            "스텝 200에서 손실: 1.022\n",
            "스텝 250에서 손실: 1.005\n",
            "스텝 300에서 손실: 1.002\n",
            "스텝 350에서 손실: 1.002\n",
            "스텝 400에서 손실: 1.002\n",
            "스텝 450에서 손실: 1.002\n",
            "최종 손실: 1.002\n",
            "W = 3.005655288696289, B = 1.9781303405761719\n"
          ]
        }
      ]
    },
    {
      "cell_type": "code",
      "source": [],
      "metadata": {
        "id": "UKfrAq4y4e8c"
      },
      "execution_count": 93,
      "outputs": []
    }
  ]
}