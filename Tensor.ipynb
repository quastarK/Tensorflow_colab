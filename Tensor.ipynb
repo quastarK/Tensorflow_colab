{
  "nbformat": 4,
  "nbformat_minor": 0,
  "metadata": {
    "colab": {
      "provenance": [],
      "authorship_tag": "ABX9TyNF7qP++zlqwh4oX5N5COM8",
      "include_colab_link": true
    },
    "kernelspec": {
      "name": "python3",
      "display_name": "Python 3"
    },
    "language_info": {
      "name": "python"
    }
  },
  "cells": [
    {
      "cell_type": "markdown",
      "metadata": {
        "id": "view-in-github",
        "colab_type": "text"
      },
      "source": [
        "<a href=\"https://colab.research.google.com/github/quastarK/Tensorflow_colab/blob/main/Tensor.ipynb\" target=\"_parent\"><img src=\"https://colab.research.google.com/assets/colab-badge.svg\" alt=\"Open In Colab\"/></a>"
      ]
    },
    {
      "cell_type": "code",
      "execution_count": null,
      "metadata": {
        "id": "Ro7YJt30hwx3"
      },
      "outputs": [],
      "source": [
        "import tensorflow as tf"
      ]
    },
    {
      "cell_type": "markdown",
      "source": [
        "## 랭크 0\n"
      ],
      "metadata": {
        "id": "ecEyRyQlkCBh"
      }
    },
    {
      "cell_type": "code",
      "source": [
        "mammal = tf.Variable(\"코끼리\", tf.string)\n",
        "ignition = tf.Variable(451,tf.int16)\n",
        "floating = tf.Variable(3.141592653,tf.float64)\n",
        "its_complicated = tf.Variable(12.3-4.85j,tf.complex64)"
      ],
      "metadata": {
        "id": "btN7kw9Bhz-8"
      },
      "execution_count": null,
      "outputs": []
    },
    {
      "cell_type": "code",
      "source": [
        "print(mammal)\n",
        "print(ignition)\n",
        "print(floating)\n",
        "print(its_complicated)"
      ],
      "metadata": {
        "colab": {
          "base_uri": "https://localhost:8080/"
        },
        "id": "n4WeOec3iFaP",
        "outputId": "a9107a55-610e-4668-9ea4-df2f784c8480"
      },
      "execution_count": null,
      "outputs": [
        {
          "output_type": "stream",
          "name": "stdout",
          "text": [
            "<tf.Variable 'Variable:0' shape=() dtype=string, numpy=b'\\xec\\xbd\\x94\\xeb\\x81\\xbc\\xeb\\xa6\\xac'>\n",
            "<tf.Variable 'Variable:0' shape=() dtype=int32, numpy=451>\n",
            "<tf.Variable 'Variable:0' shape=() dtype=float32, numpy=3.1415927>\n",
            "<tf.Variable 'Variable:0' shape=() dtype=complex128, numpy=(12.3-4.85j)>\n"
          ]
        }
      ]
    },
    {
      "cell_type": "markdown",
      "source": [
        "## 랭크 1"
      ],
      "metadata": {
        "id": "GEYfGkWKkGUg"
      }
    },
    {
      "cell_type": "code",
      "source": [
        "mystr = tf.Variable([\"안녕하세요\"], tf.string)\n",
        "cool_numbers = tf.Variable([3.14159,2.71828],tf.float32)\n",
        "first_primes = tf.Variable([2,3,5,7,11],tf.int32)\n",
        "its_very_complicated = tf.Variable([12.3-4.85j,7.5-6.23j],tf.complex64)"
      ],
      "metadata": {
        "id": "-MJ7MxPdiIJj"
      },
      "execution_count": 7,
      "outputs": []
    },
    {
      "cell_type": "code",
      "source": [
        "print(mystr)\n",
        "print(cool_numbers)\n",
        "print(first_primes)\n",
        "print(its_very_complicated)"
      ],
      "metadata": {
        "colab": {
          "base_uri": "https://localhost:8080/"
        },
        "id": "kV2jag6LkhG7",
        "outputId": "89c60ce7-bea2-41ee-c60d-8e59c08214c3"
      },
      "execution_count": 8,
      "outputs": [
        {
          "output_type": "stream",
          "name": "stdout",
          "text": [
            "<tf.Variable 'Variable:0' shape=(1,) dtype=string, numpy=\n",
            "array([b'\\xec\\x95\\x88\\xeb\\x85\\x95\\xed\\x95\\x98\\xec\\x84\\xb8\\xec\\x9a\\x94'],\n",
            "      dtype=object)>\n",
            "<tf.Variable 'Variable:0' shape=(2,) dtype=float32, numpy=array([3.14159, 2.71828], dtype=float32)>\n",
            "<tf.Variable 'Variable:0' shape=(5,) dtype=int32, numpy=array([ 2,  3,  5,  7, 11], dtype=int32)>\n",
            "<tf.Variable 'Variable:0' shape=(2,) dtype=complex128, numpy=array([12.3-4.85j,  7.5-6.23j])>\n"
          ]
        }
      ]
    },
    {
      "cell_type": "markdown",
      "source": [
        "## 고차원 랭크"
      ],
      "metadata": {
        "id": "cJWPtzWNklaP"
      }
    },
    {
      "cell_type": "markdown",
      "source": [
        "랭크 2 tf.Tensor 객체는 최소 한 개 이상의 열과 행으로 구성됩니다."
      ],
      "metadata": {
        "id": "TyysEdU1lSHo"
      }
    },
    {
      "cell_type": "code",
      "source": [
        "mymat = tf.Variable([[7],[11]], tf.int16)\n",
        "myxor = tf.Variable([[False,True],[True,False]], tf.bool)\n",
        "linear_squares = tf.Variable([[4],[9],[16],[25]], tf.int32)\n",
        "squarish_squares = tf.Variable([[4,9],[16,25]], tf.int32)\n",
        "rank_of_squares = tf.rank(squarish_squares)\n",
        "mymatC = tf.Variable([[7],[11]],tf.int32)"
      ],
      "metadata": {
        "id": "Ys2UBA7Tkkb2"
      },
      "execution_count": 10,
      "outputs": []
    },
    {
      "cell_type": "code",
      "source": [
        "print(mymat)\n",
        "print(myxor)\n",
        "print(linear_squares)\n",
        "print(squarish_squares)\n",
        "print(rank_of_squares)\n",
        "print(mymatC)"
      ],
      "metadata": {
        "colab": {
          "base_uri": "https://localhost:8080/"
        },
        "id": "c2TFyHRXlxYW",
        "outputId": "b5d7f5aa-501e-494a-e7fc-5b5c74600a4c"
      },
      "execution_count": 13,
      "outputs": [
        {
          "output_type": "stream",
          "name": "stdout",
          "text": [
            "<tf.Variable 'Variable:0' shape=(2, 1) dtype=int32, numpy=\n",
            "array([[ 7],\n",
            "       [11]], dtype=int32)>\n",
            "<tf.Variable 'Variable:0' shape=(2, 2) dtype=bool, numpy=\n",
            "array([[False,  True],\n",
            "       [ True, False]])>\n",
            "<tf.Variable 'Variable:0' shape=(4, 1) dtype=int32, numpy=\n",
            "array([[ 4],\n",
            "       [ 9],\n",
            "       [16],\n",
            "       [25]], dtype=int32)>\n",
            "<tf.Variable 'Variable:0' shape=(2, 2) dtype=int32, numpy=\n",
            "array([[ 4,  9],\n",
            "       [16, 25]], dtype=int32)>\n",
            "tf.Tensor(2, shape=(), dtype=int32)\n",
            "<tf.Variable 'Variable:0' shape=(2, 1) dtype=int32, numpy=\n",
            "array([[ 7],\n",
            "       [11]], dtype=int32)>\n"
          ]
        }
      ]
    },
    {
      "cell_type": "markdown",
      "source": [
        "고차원 랭크 텐서는 n-차원 배열로 구성됩니다.\n"
      ],
      "metadata": {
        "id": "yNY7YD9mmDIe"
      }
    },
    {
      "cell_type": "code",
      "source": [
        "my_image = tf.zeros([10,299,299,3]) # 배치 x 높이 x 너비 x 색상"
      ],
      "metadata": {
        "id": "xEV7v75slzaY"
      },
      "execution_count": 17,
      "outputs": []
    },
    {
      "cell_type": "code",
      "source": [
        "print(my_image.shape)"
      ],
      "metadata": {
        "colab": {
          "base_uri": "https://localhost:8080/"
        },
        "id": "1IYc_6tsmKYB",
        "outputId": "d6e446e5-3392-4709-bf6d-68efe9c025e2"
      },
      "execution_count": 18,
      "outputs": [
        {
          "output_type": "stream",
          "name": "stdout",
          "text": [
            "(10, 299, 299, 3)\n"
          ]
        }
      ]
    },
    {
      "cell_type": "code",
      "source": [],
      "metadata": {
        "id": "LCYSVSb7mL7V"
      },
      "execution_count": null,
      "outputs": []
    }
  ]
}